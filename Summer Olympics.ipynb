{
 "cells": [
  {
   "cell_type": "code",
   "execution_count": 34,
   "metadata": {},
   "outputs": [],
   "source": [
    "import pandas as pd\n",
    "\n",
    "olympics_df = pd.read_csv(\"Summer_Olympic_medallists_1896_to_2008.csv\").dropna(axis=1)"
   ]
  },
  {
   "cell_type": "markdown",
   "metadata": {},
   "source": [
    "## Question 1:\n",
    "What are top three most winningest countries for total medals?"
   ]
  },
  {
   "cell_type": "code",
   "execution_count": 35,
   "metadata": {},
   "outputs": [
    {
     "data": {
      "text/html": [
       "<div>\n",
       "<style scoped>\n",
       "    .dataframe tbody tr th:only-of-type {\n",
       "        vertical-align: middle;\n",
       "    }\n",
       "\n",
       "    .dataframe tbody tr th {\n",
       "        vertical-align: top;\n",
       "    }\n",
       "\n",
       "    .dataframe thead th {\n",
       "        text-align: right;\n",
       "    }\n",
       "</style>\n",
       "<table border=\"1\" class=\"dataframe\">\n",
       "  <thead>\n",
       "    <tr style=\"text-align: right;\">\n",
       "      <th></th>\n",
       "      <th>NOC</th>\n",
       "      <th>Medal Count</th>\n",
       "    </tr>\n",
       "  </thead>\n",
       "  <tbody>\n",
       "    <tr>\n",
       "      <th>1</th>\n",
       "      <td>USA</td>\n",
       "      <td>4334</td>\n",
       "    </tr>\n",
       "    <tr>\n",
       "      <th>2</th>\n",
       "      <td>URS</td>\n",
       "      <td>2049</td>\n",
       "    </tr>\n",
       "    <tr>\n",
       "      <th>3</th>\n",
       "      <td>GBR</td>\n",
       "      <td>1594</td>\n",
       "    </tr>\n",
       "  </tbody>\n",
       "</table>\n",
       "</div>"
      ],
      "text/plain": [
       "   NOC  Medal Count\n",
       "1  USA         4334\n",
       "2  URS         2049\n",
       "3  GBR         1594"
      ]
     },
     "execution_count": 35,
     "metadata": {},
     "output_type": "execute_result"
    }
   ],
   "source": [
    "total_medal_count = olympics_df.groupby(\"NOC\")\\\n",
    "                    .Medal.count()\\\n",
    "                    .reset_index(name=\"Medal Count\")\\\n",
    "                    .sort_values(\"Medal Count\", ascending=False)\n",
    "\n",
    "total_medal_count.reset_index(drop=True, inplace=True)\n",
    "total_medal_count.index += 1\n",
    "total_medal_count.head(3)"
   ]
  },
  {
   "cell_type": "markdown",
   "metadata": {},
   "source": [
    "## Question 2:\n",
    "What are the top 10 winningest countries, with each medal type included?"
   ]
  },
  {
   "cell_type": "code",
   "execution_count": 36,
   "metadata": {},
   "outputs": [
    {
     "data": {
      "text/html": [
       "<div>\n",
       "<style scoped>\n",
       "    .dataframe tbody tr th:only-of-type {\n",
       "        vertical-align: middle;\n",
       "    }\n",
       "\n",
       "    .dataframe tbody tr th {\n",
       "        vertical-align: top;\n",
       "    }\n",
       "\n",
       "    .dataframe thead th {\n",
       "        text-align: right;\n",
       "    }\n",
       "</style>\n",
       "<table border=\"1\" class=\"dataframe\">\n",
       "  <thead>\n",
       "    <tr style=\"text-align: right;\">\n",
       "      <th>Medal</th>\n",
       "      <th>Bronze</th>\n",
       "      <th>Gold</th>\n",
       "      <th>Silver</th>\n",
       "      <th>Total</th>\n",
       "    </tr>\n",
       "    <tr>\n",
       "      <th>NOC</th>\n",
       "      <th></th>\n",
       "      <th></th>\n",
       "      <th></th>\n",
       "      <th></th>\n",
       "    </tr>\n",
       "  </thead>\n",
       "  <tbody>\n",
       "    <tr>\n",
       "      <th>USA</th>\n",
       "      <td>1052</td>\n",
       "      <td>2087</td>\n",
       "      <td>1195</td>\n",
       "      <td>4334</td>\n",
       "    </tr>\n",
       "    <tr>\n",
       "      <th>URS</th>\n",
       "      <td>584</td>\n",
       "      <td>838</td>\n",
       "      <td>627</td>\n",
       "      <td>2049</td>\n",
       "    </tr>\n",
       "    <tr>\n",
       "      <th>GBR</th>\n",
       "      <td>505</td>\n",
       "      <td>498</td>\n",
       "      <td>591</td>\n",
       "      <td>1594</td>\n",
       "    </tr>\n",
       "    <tr>\n",
       "      <th>FRA</th>\n",
       "      <td>475</td>\n",
       "      <td>378</td>\n",
       "      <td>461</td>\n",
       "      <td>1314</td>\n",
       "    </tr>\n",
       "    <tr>\n",
       "      <th>ITA</th>\n",
       "      <td>374</td>\n",
       "      <td>460</td>\n",
       "      <td>394</td>\n",
       "      <td>1228</td>\n",
       "    </tr>\n",
       "    <tr>\n",
       "      <th>GER</th>\n",
       "      <td>454</td>\n",
       "      <td>407</td>\n",
       "      <td>350</td>\n",
       "      <td>1211</td>\n",
       "    </tr>\n",
       "    <tr>\n",
       "      <th>AUS</th>\n",
       "      <td>413</td>\n",
       "      <td>293</td>\n",
       "      <td>369</td>\n",
       "      <td>1075</td>\n",
       "    </tr>\n",
       "    <tr>\n",
       "      <th>HUN</th>\n",
       "      <td>345</td>\n",
       "      <td>400</td>\n",
       "      <td>308</td>\n",
       "      <td>1053</td>\n",
       "    </tr>\n",
       "    <tr>\n",
       "      <th>SWE</th>\n",
       "      <td>325</td>\n",
       "      <td>347</td>\n",
       "      <td>349</td>\n",
       "      <td>1021</td>\n",
       "    </tr>\n",
       "    <tr>\n",
       "      <th>GDR</th>\n",
       "      <td>225</td>\n",
       "      <td>329</td>\n",
       "      <td>271</td>\n",
       "      <td>825</td>\n",
       "    </tr>\n",
       "  </tbody>\n",
       "</table>\n",
       "</div>"
      ],
      "text/plain": [
       "Medal  Bronze  Gold  Silver  Total\n",
       "NOC                               \n",
       "USA      1052  2087    1195   4334\n",
       "URS       584   838     627   2049\n",
       "GBR       505   498     591   1594\n",
       "FRA       475   378     461   1314\n",
       "ITA       374   460     394   1228\n",
       "GER       454   407     350   1211\n",
       "AUS       413   293     369   1075\n",
       "HUN       345   400     308   1053\n",
       "SWE       325   347     349   1021\n",
       "GDR       225   329     271    825"
      ]
     },
     "execution_count": 36,
     "metadata": {},
     "output_type": "execute_result"
    }
   ],
   "source": [
    "each_medal_counts = pd.crosstab(olympics_df[\"NOC\"], olympics_df[\"Medal\"])\n",
    "\n",
    "each_medal_counts[\"Total\"] = olympics_df.groupby(\"NOC\")\\\n",
    "                             .Medal.count()\\\n",
    "\n",
    "each_medal_counts = each_medal_counts.sort_values(\"Total\", ascending=False)\\\n",
    "                    .drop(columns=['X'])\n",
    "                    #column X was inserted as Medal type due to error in data\n",
    "\n",
    "each_medal_counts.head(10)          "
   ]
  },
  {
   "cell_type": "markdown",
   "metadata": {},
   "source": [
    "## Question 3:\n",
    "Which countries have made the most progress in total medals won from 1996 to 2008?"
   ]
  },
  {
   "cell_type": "code",
   "execution_count": 37,
   "metadata": {},
   "outputs": [
    {
     "data": {
      "text/html": [
       "<div>\n",
       "<style scoped>\n",
       "    .dataframe tbody tr th:only-of-type {\n",
       "        vertical-align: middle;\n",
       "    }\n",
       "\n",
       "    .dataframe tbody tr th {\n",
       "        vertical-align: top;\n",
       "    }\n",
       "\n",
       "    .dataframe thead th {\n",
       "        text-align: right;\n",
       "    }\n",
       "</style>\n",
       "<table border=\"1\" class=\"dataframe\">\n",
       "  <thead>\n",
       "    <tr style=\"text-align: right;\">\n",
       "      <th>Edition</th>\n",
       "      <th>1996</th>\n",
       "      <th>2008</th>\n",
       "      <th>Progress</th>\n",
       "    </tr>\n",
       "    <tr>\n",
       "      <th>NOC</th>\n",
       "      <th></th>\n",
       "      <th></th>\n",
       "      <th></th>\n",
       "    </tr>\n",
       "  </thead>\n",
       "  <tbody>\n",
       "    <tr>\n",
       "      <th>CHN</th>\n",
       "      <td>110</td>\n",
       "      <td>184</td>\n",
       "      <td>74</td>\n",
       "    </tr>\n",
       "    <tr>\n",
       "      <th>USA</th>\n",
       "      <td>260</td>\n",
       "      <td>315</td>\n",
       "      <td>55</td>\n",
       "    </tr>\n",
       "    <tr>\n",
       "      <th>GBR</th>\n",
       "      <td>26</td>\n",
       "      <td>77</td>\n",
       "      <td>51</td>\n",
       "    </tr>\n",
       "    <tr>\n",
       "      <th>ARG</th>\n",
       "      <td>20</td>\n",
       "      <td>51</td>\n",
       "      <td>31</td>\n",
       "    </tr>\n",
       "  </tbody>\n",
       "</table>\n",
       "</div>"
      ],
      "text/plain": [
       "Edition  1996  2008  Progress\n",
       "NOC                          \n",
       "CHN       110   184        74\n",
       "USA       260   315        55\n",
       "GBR        26    77        51\n",
       "ARG        20    51        31"
      ]
     },
     "execution_count": 37,
     "metadata": {},
     "output_type": "execute_result"
    }
   ],
   "source": [
    "progress_df = pd.crosstab(olympics_df[\"NOC\"], olympics_df[\"Edition\"])\n",
    "\n",
    "drop_list = [i for i in progress_df.columns if i != 1996 and i != 2008]\n",
    "progress_df.drop(drop_list, axis=1, inplace=True)\n",
    "\n",
    "progress_df[\"Progress\"] = progress_df[2008] - progress_df[1996]\n",
    "#\"Progress\" column is the change in medals won from 1996 to 2008\n",
    "progress_df = progress_df.sort_values(\"Progress\", ascending=False)\n",
    "\n",
    "progress_df.head(4)"
   ]
  },
  {
   "cell_type": "markdown",
   "metadata": {},
   "source": [
    "## Question 4:\n",
    "Describe any issues with the data set."
   ]
  },
  {
   "cell_type": "markdown",
   "metadata": {},
   "source": [
    "There are several instances where the corresponding values of \"Sport\", \"Discipline\" and \"Event\" are all the same, eg. football, hockey and basketball. Furthermore, the same is also true of \"Sport\" and \"Discipline\". \n",
    "\"USA\" shows up in the \"Gender\" values and \"8m\" is included in \"Event_gender\".\n",
    "Impressively, there are no null values in the file."
   ]
  },
  {
   "cell_type": "markdown",
   "metadata": {},
   "source": [
    "## Question 5:\n",
    "Use a graph to show the progress of China and the USA from 1896 to 2008"
   ]
  },
  {
   "cell_type": "code",
   "execution_count": 10,
   "metadata": {},
   "outputs": [],
   "source": [
    "usa_china = pd.crosstab(olympics_df[\"NOC\"], olympics_df[\"Edition\"])\n",
    "\n",
    "usa_china = usa_china.reset_index(level=0)\n",
    "\n",
    "usa_china.drop(usa_china[(usa_china.NOC != \"USA\") & (usa_china.NOC != \"CHN\")].index, inplace=True)\n",
    "#dropping all countries from \"NOC\" column except USA and China\n",
    "usa_china.reset_index(drop=True, inplace=True)\n",
    "\n",
    "usa_china.drop(columns=[\"NOC\"], axis=1, inplace=True)\n",
    "#drop \"NOC\" for rendundancy in columns set"
   ]
  },
  {
   "cell_type": "code",
   "execution_count": 12,
   "metadata": {},
   "outputs": [
    {
     "data": {
      "image/png": "[encoded data removed]",
      "text/plain": [
       "<Figure size 1152x576 with 1 Axes>"
      ]
     },
     "metadata": {
      "needs_background": "light"
     },
     "output_type": "display_data"
    }
   ],
   "source": [
    "from matplotlib import pyplot as plt\n",
    "\n",
    "cols = usa_china.columns \n",
    "#list of columns from df\n",
    "progress_values = usa_china.values.tolist() \n",
    "#lists of values according to each \"Edition\" column for USA and China\n",
    "china = progress_values[0]\n",
    "usa = progress_values[1]\n",
    "\n",
    "plt.figure(figsize=(16, 8))\n",
    "plt.plot(cols, china, color=\"red\")\n",
    "plt.plot(cols, usa, color=\"blue\")\n",
    "\n",
    "plt.xlabel(\"Editions\")\n",
    "plt.ylabel(\"Medals won\")\n",
    "plt.title(\"Progress of USA and China in Summer Olympics, 1896 to 2008\")\n",
    "legend_labels = [\"china\", \"usa\"]\n",
    "plt.legend([\"China\", \"USA\"], loc=0)\n",
    "plt.show()"
   ]
  },
  {
   "cell_type": "markdown",
   "metadata": {},
   "source": [
    "China did not participate until the 1984 Summer Olympics, except for the 1956 games in which they won no medals. \n",
    "The USA did not participate in the 1980 Summer Olympics due to their boycott of the games."
   ]
  },
  {
   "cell_type": "markdown",
   "metadata": {},
   "source": [
    "## Question 6:\n",
    "Show the distribution of male and female medal winners from 1896 to 2008"
   ]
  },
  {
   "cell_type": "code",
   "execution_count": 15,
   "metadata": {},
   "outputs": [],
   "source": [
    "medal_counts = olympics_df.groupby(\"Gender\")\\\n",
    "               .Medal.count()\\\n",
    "               .reset_index(name=\"Medal Count\")\\\n",
    "               .sort_values(\"Medal Count\", ascending=False)\n",
    "\n",
    "medal_counts.reset_index(drop=True, inplace=True)\n",
    "medal_counts.drop([2], axis=0, inplace=True) \n",
    "#drop third row \"USA\" from \"Gender\", a result of incorrect data\n",
    "medal_count_men = medal_counts.iloc[0][\"Medal Count\"] \n",
    "#variable that captures the total medals for men in df\n",
    "medal_count_women = medal_counts.iloc[1][\"Medal Count\"] \n",
    "#variable that captures the total medals for women in df\n",
    "total_medals = medal_count_men + medal_count_women\n",
    "medal_counts[\"Medal Percentage\"] = [round(medal_count_men / total_medals, 3) * 100,\\\n",
    "                                   round(medal_count_women / total_medals, 3) * 100]\n",
    "#new column representing percentage of medals for men and women, derived from \"Medal Count\" column"
   ]
  },
  {
   "cell_type": "code",
   "execution_count": 16,
   "metadata": {},
   "outputs": [
    {
     "data": {
      "image/png": "[encoded data removed]",
      "text/plain": [
       "<Figure size 864x432 with 1 Axes>"
      ]
     },
     "metadata": {},
     "output_type": "display_data"
    }
   ],
   "source": [
    "import seaborn as sns\n",
    "\n",
    "sns.set_style(\"whitegrid\")\n",
    "sns.set_palette(\"pastel\")\n",
    "bar,ax = plt.subplots(figsize=(12,6))\n",
    "ax = sns.barplot(x=\"Gender\", y=\"Medal Percentage\", data=medal_counts)\n",
    "ax.set_title(\"Gender Distribution of Summer Olympic Medal Winners from 1900 to 2008\", fontsize=15)\n",
    "ax.set_xlabel (\"Gender\")\n",
    "ax.set_ylabel (\"Percentage\")\n",
    "\n",
    "for rect in ax.patches:\n",
    "    ax.text (rect.get_x() + rect.get_width() / 2, rect.get_height(),\"%.1f%%\"% rect.get_height(), fontsize=12)\n",
    "    #calculate Gender percentages and annotate bar plot"
   ]
  },
  {
   "cell_type": "markdown",
   "metadata": {},
   "source": [
    "## Question 7:\n",
    "Any further remarks on the data set"
   ]
  },
  {
   "cell_type": "markdown",
   "metadata": {},
   "source": [
    "There are currently 339 events at the Summer Olympics and this file has 578 unique \"Event\" values. It is worth exploring if discontinued events have disadvantaged countries that historically performed well in them. It is also important to be mindful of new events when examining the progress of country performance.  \n"
   ]
  }
 ],
 "metadata": {
  "kernelspec": {
   "display_name": "Python 3",
   "language": "python",
   "name": "python3"
  },
  "language_info": {
   "codemirror_mode": {
    "name": "ipython",
    "version": 3
   },
   "file_extension": ".py",
   "mimetype": "text/x-python",
   "name": "python",
   "nbconvert_exporter": "python",
   "pygments_lexer": "ipython3",
   "version": "3.7.7"
  }
 },
 "nbformat": 4,
 "nbformat_minor": 4
}
